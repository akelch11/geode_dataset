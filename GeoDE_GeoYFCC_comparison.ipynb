{
 "cells": [
  {
   "cell_type": "code",
   "execution_count": 2,
   "id": "fad8b6e9",
   "metadata": {},
   "outputs": [],
   "source": [
    "import pickle\n",
    "import numpy as np\n",
    "import matplotlib.pyplot as plt"
   ]
  },
  {
   "cell_type": "code",
   "execution_count": 10,
   "id": "887d5bf8",
   "metadata": {},
   "outputs": [],
   "source": [
    "import os\n",
    "\n",
    "def prep_yfcc():\n",
    "    all_images = {}\n",
    "    for i in range(0, 360000, 10000):\n",
    "        if os.path.exists('geoyfcc_pass_feat/features{}.pkl'.format(i)):\n",
    "            all_images.update(pickle.load(open('geoyfcc_pass_feat/features{}.pkl'.format(i), 'rb')))\n",
    "    return all_images\n"
   ]
  },
  {
   "cell_type": "code",
   "execution_count": 11,
   "id": "b390ffbb",
   "metadata": {},
   "outputs": [],
   "source": [
    "yfcc_features = prep_yfcc()\n",
    "\n"
   ]
  },
  {
   "cell_type": "code",
   "execution_count": 7,
   "id": "833b8693",
   "metadata": {},
   "outputs": [],
   "source": [
    "appen_features = {}\n",
    "\n",
    "for region in range(6):#['Africa', 'Americas', 'EastAsia', 'Europe', 'SouthEastAsia', 'WestAsia']:\n",
    "    appen_features[region] = pickle.load(open('data/appen/PASS_features/region{}.pkl'.format(region), 'rb'))"
   ]
  },
  {
   "cell_type": "code",
   "execution_count": 19,
   "id": "25854fa3",
   "metadata": {},
   "outputs": [],
   "source": [
    "appen_feat_all = {}\n",
    "\n",
    "for a in range(6):\n",
    "    for o in appen_features[a].keys():\n",
    "        for im in appen_features[a][o]['train']:\n",
    "            appen_feat_all[im.split('/')[-1]] = appen_features[a][o]['train'][im].reshape(1, -1)\n",
    "        for im in appen_features[a][o]['test']:\n",
    "            appen_feat_all[im.split('/')[-1]] = appen_features[a][o]['test'][im].reshape(1, -1)\n",
    "\n"
   ]
  },
  {
   "cell_type": "code",
   "execution_count": 13,
   "id": "bd497f22",
   "metadata": {},
   "outputs": [],
   "source": [
    "appen_dset = pickle.load(open('data/appen_prep.pkl', 'rb'))\n",
    "geoyfcc_dset = pickle.load(open('data/geoyfcc_prep.pkl', 'rb'))"
   ]
  },
  {
   "cell_type": "code",
   "execution_count": 20,
   "id": "f5536f53",
   "metadata": {},
   "outputs": [
    {
     "name": "stdout",
     "output_type": "stream",
     "text": [
      "(12388, 2048) (12388, 40)\n"
     ]
    }
   ],
   "source": [
    "appen_train_features = []\n",
    "appen_train_obj = []\n",
    "appen_train_reg = []\n",
    "\n",
    "appen_val_features = []\n",
    "appen_val_obj = []\n",
    "appen_val_reg = []\n",
    "\n",
    "appen_test_features = []\n",
    "appen_test_obj = []\n",
    "appen_test_reg = []\n",
    "\n",
    "for i in range(len(appen_dset['train'][0])):\n",
    "    appen_train_features.append(appen_feat_all[appen_dset['train'][0][i].split('/')[-1]].squeeze())\n",
    "    temp = np.zeros(40)\n",
    "    temp[appen_dset['train'][1][i]] = 1\n",
    "    appen_train_obj.append(temp)\n",
    "\n",
    "    appen_train_reg.append(appen_dset['train'][2][i])\n",
    "\n",
    "appen_train_features = np.stack(appen_train_features)\n",
    "appen_train_obj = np.stack(appen_train_obj)\n",
    "\n",
    "for i in range(len(appen_dset['val'][0])):\n",
    "    appen_val_features.append(appen_feat_all[appen_dset['val'][0][i].split('/')[-1]].squeeze())\n",
    "    temp = np.zeros(40)\n",
    "    temp[appen_dset['val'][1][i]] = 1\n",
    "    appen_val_obj.append(temp)\n",
    "\n",
    "    appen_val_reg.append(appen_dset['val'][2][i])\n",
    "\n",
    "appen_val_features = np.stack(appen_val_features)\n",
    "appen_val_obj = np.stack(appen_val_obj)\n",
    "\n",
    "for i in range(len(appen_dset['test'][0])):\n",
    "    appen_test_features.append(appen_feat_all[appen_dset['test'][0][i].split('/')[-1]].squeeze())\n",
    "    temp = np.zeros(40)\n",
    "    temp[appen_dset['test'][1][i]] = 1\n",
    "    appen_test_obj.append(temp)\n",
    "\n",
    "    appen_test_reg.append(appen_dset['test'][2][i])\n",
    "\n",
    "appen_test_features = np.stack(appen_test_features)\n",
    "appen_test_obj = np.stack(appen_test_obj)\n",
    "\n",
    "print(appen_test_features.shape, appen_test_obj.shape )"
   ]
  },
  {
   "cell_type": "code",
   "execution_count": 30,
   "id": "2a50d838",
   "metadata": {},
   "outputs": [
    {
     "name": "stdout",
     "output_type": "stream",
     "text": [
      "(18444, 2048) (18444, 29)\n",
      "(6188, 2048) (6188, 29)\n"
     ]
    }
   ],
   "source": [
    "geoyfcc_train_features = []\n",
    "geoyfcc_train_obj = []\n",
    "\n",
    "geoyfcc_val_features = []\n",
    "geoyfcc_val_obj = []\n",
    "\n",
    "geoyfcc_test_features = []\n",
    "geoyfcc_test_obj = []\n",
    "\n",
    "for i, a in enumerate(geoyfcc_dset['train'][0]):\n",
    "    if a in yfcc_features:\n",
    "        geoyfcc_train_features.append(yfcc_features[a].squeeze())\n",
    "        temp = np.zeros(29)\n",
    "        temp[geoyfcc_dset['train'][1][i]] = 1\n",
    "        geoyfcc_train_obj.append(temp)\n",
    "\n",
    "geoyfcc_train_features = np.stack(geoyfcc_train_features)\n",
    "geoyfcc_train_obj = np.stack(geoyfcc_train_obj)\n",
    "print(geoyfcc_train_features.shape, geoyfcc_train_obj.shape)\n",
    "\n",
    "for i, a in enumerate(geoyfcc_dset['val'][0]):\n",
    "    if a in yfcc_features:\n",
    "        geoyfcc_val_features.append(yfcc_features[a].squeeze())\n",
    "        temp = np.zeros(29)\n",
    "        temp[geoyfcc_dset['val'][1][i]] = 1\n",
    "        geoyfcc_val_obj.append(temp)\n",
    "\n",
    "geoyfcc_val_features = np.stack(geoyfcc_val_features)\n",
    "geoyfcc_val_obj = np.stack(geoyfcc_val_obj)\n",
    "\n",
    "for i, a in enumerate(geoyfcc_dset['test'][0]):\n",
    "    if a in yfcc_features:\n",
    "        geoyfcc_test_features.append(yfcc_features[a].squeeze())\n",
    "        temp = np.zeros(29)\n",
    "        temp[geoyfcc_dset['test'][1][i]] = 1\n",
    "        geoyfcc_test_obj.append(temp)\n",
    "\n",
    "geoyfcc_test_features = np.stack(geoyfcc_test_features)\n",
    "geoyfcc_test_obj = np.stack(geoyfcc_test_obj)\n",
    "\n",
    "print(geoyfcc_test_features.shape, geoyfcc_test_obj.shape )\n",
    "\n"
   ]
  },
  {
   "cell_type": "code",
   "execution_count": 34,
   "id": "7d6b9f51",
   "metadata": {},
   "outputs": [],
   "source": [
    "del yfcc_features"
   ]
  },
  {
   "cell_type": "code",
   "execution_count": 33,
   "id": "769db011",
   "metadata": {},
   "outputs": [],
   "source": [
    "from sklearn.metrics import average_precision_score\n",
    "from sklearn.linear_model import LogisticRegression\n",
    "\n",
    "def get_best_clf(trainX, trainy, valX, valy, lmbdas = [10, 1, 0.1, 0.01, 0.001]):\n",
    "    best_acc = 0\n",
    "    best_clf = None\n",
    "    for a in lmbdas:\n",
    "        clf = LogisticRegression(C=a, solver='liblinear')\n",
    "        clf.fit(trainX, trainy)\n",
    "        score = clf.score(valX, valy)\n",
    "        if score > best_acc:\n",
    "            best_acc = score\n",
    "            best_clf = clf\n",
    "    return best_clf, best_acc"
   ]
  },
  {
   "cell_type": "code",
   "execution_count": 35,
   "id": "54b0fe9e",
   "metadata": {},
   "outputs": [],
   "source": [
    "best_clf, best_acc = get_best_clf(np.concatenate([appen_train_features, geoyfcc_train_features]),\n",
    "                                  np.concatenate([np.zeros(len(appen_train_features)), np.ones(len(geoyfcc_train_features))]),\n",
    "                                  np.concatenate([appen_val_features, geoyfcc_val_features]),\n",
    "                                  np.concatenate([np.zeros(len(appen_val_features)), np.ones(len(geoyfcc_val_features))]))"
   ]
  },
  {
   "cell_type": "code",
   "execution_count": 39,
   "id": "012d06ea",
   "metadata": {},
   "outputs": [],
   "source": [
    "geoyfcc_feat = pickle.load(open('data/geoyfcc_req_features.pkl', 'rb'))\n",
    "\n",
    "geoyfcc_dset = pickle.load(open('data/geoyfcc_prep.pkl', 'rb'))"
   ]
  },
  {
   "cell_type": "code",
   "execution_count": 40,
   "id": "71d7cdd3",
   "metadata": {},
   "outputs": [],
   "source": [
    "af_geoyfcc = {i:[] for i in range(29)}\n",
    "\n",
    "for i in range(len(geoyfcc_dset['train'][1])):\n",
    "    if geoyfcc_dset['train'][2][i] == 0:\n",
    "        if geoyfcc_dset['train'][0][i] in geoyfcc_feat:\n",
    "            for tag in geoyfcc_dset['train'][1][i]:\n",
    "                af_geoyfcc[tag].append(geoyfcc_feat[geoyfcc_dset['train'][0][i]])"
   ]
  },
  {
   "cell_type": "code",
   "execution_count": 41,
   "id": "9c520c12",
   "metadata": {},
   "outputs": [],
   "source": [
    "appen_af = {i:[] for i in appen_features[0].keys()}\n",
    "\n",
    "for key in appen_features[0].keys():\n",
    "    for a in appen_features[0][key]['train']:\n",
    "        appen_af[key].append( appen_features[0][key]['train'][a])\n",
    "    for a in appen_features[0][key]['test']:\n",
    "        appen_af[key].append( appen_features[0][key]['test'][a])"
   ]
  },
  {
   "cell_type": "code",
   "execution_count": 42,
   "id": "f01d75a2",
   "metadata": {},
   "outputs": [],
   "source": [
    "from sklearn.manifold import TSNE\n",
    "\n",
    "tsne = TSNE(n_components=2)\n",
    "\n",
    "trans_food = tsne.fit_transform(np.concatenate([*appen_af['Plate of food Image'], *af_geoyfcc[17]]))"
   ]
  },
  {
   "cell_type": "code",
   "execution_count": 44,
   "id": "6f639411",
   "metadata": {},
   "outputs": [
    {
     "data": {
      "image/png": "[encoded data removed]",
      "text/plain": [
       "<Figure size 432x288 with 1 Axes>"
      ]
     },
     "metadata": {
      "needs_background": "light"
     },
     "output_type": "display_data"
    }
   ],
   "source": [
    "import matplotlib.pyplot as plt\n",
    "\n",
    "num_appen = len(appen_af['Plate of food Image'])\n",
    "plt.scatter(trans_food[num_appen:, 0], trans_food[num_appen:, 1], color='maroon', marker='+', label='GeoYFCC')\n",
    "plt.scatter(trans_food[:num_appen, 0], trans_food[:num_appen, 1], color='navy', marker='+', label='GeoDE')\n",
    "\n",
    "plt.legend(fontsize=14)\n",
    "plt.savefig('africa_plate_of_food.pdf', bbox_inches='tight')"
   ]
  },
  {
   "cell_type": "code",
   "execution_count": 45,
   "id": "6dd262c7",
   "metadata": {},
   "outputs": [
    {
     "data": {
      "text/plain": [
       "479"
      ]
     },
     "execution_count": 45,
     "metadata": {},
     "output_type": "execute_result"
    }
   ],
   "source": []
  },
  {
   "cell_type": "code",
   "execution_count": null,
   "id": "c38dbc18",
   "metadata": {},
   "outputs": [],
   "source": []
  }
 ],
 "metadata": {
  "kernelspec": {
   "display_name": "Python 3",
   "language": "python",
   "name": "python3"
  },
  "language_info": {
   "codemirror_mode": {
    "name": "ipython",
    "version": 3
   },
   "file_extension": ".py",
   "mimetype": "text/x-python",
   "name": "python",
   "nbconvert_exporter": "python",
   "pygments_lexer": "ipython3",
   "version": "3.8.5"
  }
 },
 "nbformat": 4,
 "nbformat_minor": 5
}
